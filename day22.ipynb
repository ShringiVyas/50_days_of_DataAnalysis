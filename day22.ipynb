{
 "cells": [
  {
   "cell_type": "markdown",
   "metadata": {},
   "source": [
    "TABLES AND FIELDS"
   ]
  },
  {
   "cell_type": "code",
   "execution_count": 1,
   "metadata": {},
   "outputs": [],
   "source": [
    "import sqlite3\n",
    "db = sqlite3.connect('DataScience.db')\n",
    "cursor = db.cursor()"
   ]
  },
  {
   "cell_type": "code",
   "execution_count": 3,
   "metadata": {},
   "outputs": [
    {
     "data": {
      "text/plain": [
       "<sqlite3.Cursor at 0x2530f0e20c0>"
      ]
     },
     "execution_count": 3,
     "metadata": {},
     "output_type": "execute_result"
    }
   ],
   "source": [
    "#fetching all table names present in DataScience.db\n",
    "cursor.execute(\"select name from sqlite_master where type='table';\")\n"
   ]
  },
  {
   "cell_type": "code",
   "execution_count": 4,
   "metadata": {},
   "outputs": [
    {
     "name": "stdout",
     "output_type": "stream",
     "text": [
      "students\n",
      "numbers\n",
      "sales\n"
     ]
    }
   ],
   "source": [
    "tables = cursor.fetchall()\n",
    "for table in tables:\n",
    "    print(table[0])"
   ]
  },
  {
   "cell_type": "code",
   "execution_count": 5,
   "metadata": {},
   "outputs": [
    {
     "data": {
      "text/plain": [
       "<sqlite3.Cursor at 0x2530f0e20c0>"
      ]
     },
     "execution_count": 5,
     "metadata": {},
     "output_type": "execute_result"
    }
   ],
   "source": [
    "#fetch table fields and data types\n",
    "table_name = 'students'\n",
    "cursor.execute(f\"PRAGMA table_info({table_name});\")"
   ]
  },
  {
   "cell_type": "code",
   "execution_count": 6,
   "metadata": {},
   "outputs": [
    {
     "name": "stdout",
     "output_type": "stream",
     "text": [
      "Field: id, Data Type: INTEGER\n",
      "Field: name, Data Type: TEXT\n",
      "Field: age, Data Type: INTEGER\n",
      "Field: grade, Data Type: REAL\n"
     ]
    }
   ],
   "source": [
    "fields_info = cursor.fetchall()\n",
    "for field in fields_info:\n",
    "    field_name = field[1]\n",
    "    data_type = field[2]\n",
    "    print(f\"Field: {field_name}, Data Type: {data_type}\")"
   ]
  },
  {
   "cell_type": "code",
   "execution_count": 7,
   "metadata": {},
   "outputs": [
    {
     "name": "stdout",
     "output_type": "stream",
     "text": [
      "field: id, data type: INTEGER\n",
      "field: num1, data type: INTEGER\n",
      "field: num2, data type: INTEGER\n"
     ]
    }
   ],
   "source": [
    "t2 = 'numbers'\n",
    "cursor.execute(f\"pragma table_info({t2});\")\n",
    "f2_info = cursor.fetchall()\n",
    "for f2 in f2_info:\n",
    "    t2_fieldname = f2[1]\n",
    "    t2_datatype = f2[2]\n",
    "    print(f\"field: {t2_fieldname}, data type: {t2_datatype}\")"
   ]
  },
  {
   "cell_type": "code",
   "execution_count": 9,
   "metadata": {},
   "outputs": [
    {
     "name": "stdout",
     "output_type": "stream",
     "text": [
      "field: id, datatype: INTEGER\n",
      "field: product, datatype: TEXT\n",
      "field: amount, datatype: INTEGER\n",
      "field: date, datatype: date\n",
      "field: total_sales, datatype: INTEGER\n",
      "field: TotalSales, datatype: INTEGER\n",
      "field: TotalSale, datatype: INTEGER\n",
      "field: total, datatype: INTEGER\n"
     ]
    }
   ],
   "source": [
    "# t3 = 'sales'\n",
    "cursor.execute(f\"pragma table_info('sales')\")\n",
    "f3_info = cursor.fetchall()\n",
    "for f3 in f3_info:\n",
    "    t3_fieldname = f3[1]\n",
    "    t3_datatype = f3[2]\n",
    "    print(f\"field: {t3_fieldname}, datatype: {t3_datatype}\")"
   ]
  }
 ],
 "metadata": {
  "kernelspec": {
   "display_name": "base",
   "language": "python",
   "name": "python3"
  },
  "language_info": {
   "codemirror_mode": {
    "name": "ipython",
    "version": 3
   },
   "file_extension": ".py",
   "mimetype": "text/x-python",
   "name": "python",
   "nbconvert_exporter": "python",
   "pygments_lexer": "ipython3",
   "version": "3.10.9"
  }
 },
 "nbformat": 4,
 "nbformat_minor": 2
}
