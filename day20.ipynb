{
 "cells": [
  {
   "cell_type": "markdown",
   "metadata": {},
   "source": [
    "DATA MODIFICATION AND INDEXING FOR PERFORMANCE"
   ]
  },
  {
   "cell_type": "code",
   "execution_count": 1,
   "metadata": {},
   "outputs": [],
   "source": [
    "import sqlite3\n",
    "\n",
    "db =  sqlite3.connect('DataScience.db')\n",
    "cursor = db.cursor()\n",
    "\n",
    "#DATA MODIFICATION: Insert, Update, Delete\n",
    "\n",
    "cursor.execute('insert into sales (product, amount, date) values (?,?,?)', ('Lemon', 30, '2024-03-8'))\n",
    "\n",
    "db.commit()\n"
   ]
  },
  {
   "cell_type": "code",
   "execution_count": 7,
   "metadata": {},
   "outputs": [
    {
     "name": "stdout",
     "output_type": "stream",
     "text": [
      "(1, 'strawberry', 10, '2024-03-10')\n",
      "(2, 'banana', 20, '2024-03-10')\n",
      "(3, 'orange', 15, '2024-03-9')\n",
      "(4, 'mango', 30, '2024-03-8')\n",
      "(5, 'Lemon', 30, '2024-03-8')\n"
     ]
    }
   ],
   "source": [
    "cursor.execute('select * from sales')\n",
    "for i in cursor.fetchall():\n",
    "    print(i)"
   ]
  },
  {
   "cell_type": "code",
   "execution_count": 8,
   "metadata": {},
   "outputs": [
    {
     "name": "stdout",
     "output_type": "stream",
     "text": [
      "product | amount | date\n",
      "(1, 'strawberry', 10, '2024-03-10')\n",
      "(2, 'banana', 20, '2024-03-10')\n",
      "(3, 'orange', 15, '2024-03-9')\n",
      "(4, 'mango', 30, '2024-03-8')\n"
     ]
    }
   ],
   "source": [
    "cursor.execute('update sales set product = ? where amount = ?', ('strawberry', 10))\n",
    "\n",
    "cursor.execute('delete from sales where product = ?', ('Lemon',))\n",
    "\n",
    "db.commit()\n",
    "\n",
    "cursor.execute('select * from sales')\n",
    "print('product | amount | date')\n",
    "for i in cursor.fetchall():\n",
    "    print(i)\n",
    "\n"
   ]
  },
  {
   "cell_type": "markdown",
   "metadata": {},
   "source": [
    "Indexing for Performance: \n",
    "Without an index, SQLite needs to perform a full table scan to find matching rows.\n",
    " With the index, SQLite can use the index to quickly locate rows that match the specified product, resulting in faster query execution."
   ]
  },
  {
   "cell_type": "code",
   "execution_count": 33,
   "metadata": {},
   "outputs": [
    {
     "name": "stdout",
     "output_type": "stream",
     "text": [
      "Query without index: \n",
      "(3, 'orange', 15, '2024-03-9')\n",
      "\n",
      " Query with index: \n",
      "[(3, 'orange', 15, '2024-03-9')]\n"
     ]
    }
   ],
   "source": [
    "#INDEXING FOR PERFORMANCE\n",
    "\n",
    "#create an index\n",
    "cursor.execute('create index if not exists idx_product on sales (product)')\n",
    "\n",
    "print('Query without index: ')\n",
    "cursor.execute('select * from sales where product = ?', ('orange',))\n",
    "print(cursor.fetchone())\n",
    "\n",
    "# cursor.execute('create index if not exists idx_product on sales (product)')\n",
    "\n",
    "print('\\n Query with index: ')\n",
    "cursor.execute('select * from sales where product = ?', ('orange',))\n",
    "print(cursor.fetchall())\n"
   ]
  },
  {
   "cell_type": "code",
   "execution_count": 23,
   "metadata": {},
   "outputs": [
    {
     "name": "stdout",
     "output_type": "stream",
     "text": [
      "(1, 'strawberry', 10, '2024-03-10')\n",
      "(2, 'banana', 20, '2024-03-10')\n",
      "(3, 'orange', 15, '2024-03-9')\n",
      "(4, 'mango', 30, '2024-03-8')\n"
     ]
    }
   ],
   "source": [
    "cursor.execute('select * from sales')\n",
    "for i in cursor.fetchall():\n",
    "    print(i)"
   ]
  }
 ],
 "metadata": {
  "kernelspec": {
   "display_name": "base",
   "language": "python",
   "name": "python3"
  },
  "language_info": {
   "codemirror_mode": {
    "name": "ipython",
    "version": 3
   },
   "file_extension": ".py",
   "mimetype": "text/x-python",
   "name": "python",
   "nbconvert_exporter": "python",
   "pygments_lexer": "ipython3",
   "version": "3.10.9"
  }
 },
 "nbformat": 4,
 "nbformat_minor": 2
}
