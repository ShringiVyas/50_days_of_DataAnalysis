{
 "cells": [
  {
   "cell_type": "markdown",
   "metadata": {},
   "source": [
    "SUBQUERIES AND NESTED QUERIES"
   ]
  },
  {
   "cell_type": "code",
   "execution_count": 19,
   "metadata": {},
   "outputs": [
    {
     "data": {
      "text/plain": [
       "<sqlite3.Cursor at 0x1d0c7201540>"
      ]
     },
     "execution_count": 19,
     "metadata": {},
     "output_type": "execute_result"
    }
   ],
   "source": [
    "import sqlite3\n",
    "\n",
    "db = sqlite3.connect('DataScience.db')\n",
    "cursor = db.cursor()\n",
    "\n",
    "\n",
    "#Subquery 1: select amount from sales which is greater than 10\n",
    "\n",
    "#adding new column total_sales in sales table\n",
    "\n",
    "total_sales = 'total'\n",
    "TotalSales_type = 'Integer'\n",
    "\n",
    "#'ALTER TABLE' statement to add new column\n",
    "alter_query = f'''alter table sales add column {total_sales} {TotalSales_type}'''\n",
    "cursor.execute(alter_query)\n",
    "\n",
    "# values = [(20,), (15,), (8,), (9,)]\n",
    "# insert_query = '''update sales set TotalSales = ? where id = ?'''\n",
    "# for value in values:\n",
    "#     cursor.execute(insert_query, value)\n",
    "\n",
    "\n",
    "# db.commit()\n",
    "\n",
    "\n",
    "\n",
    "# cursor.execute('''select * from sales where amount > (select avg(total_sales) from sales)''')\n"
   ]
  },
  {
   "cell_type": "code",
   "execution_count": 22,
   "metadata": {},
   "outputs": [
    {
     "ename": "ProgrammingError",
     "evalue": "Incorrect number of bindings supplied. The current statement uses 2, and there are 3 supplied.",
     "output_type": "error",
     "traceback": [
      "\u001b[1;31m---------------------------------------------------------------------------\u001b[0m",
      "\u001b[1;31mProgrammingError\u001b[0m                          Traceback (most recent call last)",
      "Cell \u001b[1;32mIn[22], line 6\u001b[0m\n\u001b[0;32m      1\u001b[0m values \u001b[38;5;241m=\u001b[39m [(\u001b[38;5;124m'\u001b[39m\u001b[38;5;124mvalue1\u001b[39m\u001b[38;5;124m'\u001b[39m, \u001b[38;5;241m1\u001b[39m),\n\u001b[0;32m      2\u001b[0m     (\u001b[38;5;124m'\u001b[39m\u001b[38;5;124mvalue2\u001b[39m\u001b[38;5;124m'\u001b[39m, \u001b[38;5;241m2\u001b[39m),\n\u001b[0;32m      3\u001b[0m     (\u001b[38;5;124m'\u001b[39m\u001b[38;5;124mvalue3\u001b[39m\u001b[38;5;124m'\u001b[39m, \u001b[38;5;241m3\u001b[39m)]\n\u001b[0;32m      4\u001b[0m insert_query \u001b[38;5;241m=\u001b[39m \u001b[38;5;124m'''\u001b[39m\u001b[38;5;124mupdate sales set total= ? where id = ?\u001b[39m\u001b[38;5;124m'''\u001b[39m\n\u001b[1;32m----> 6\u001b[0m \u001b[43mcursor\u001b[49m\u001b[38;5;241;43m.\u001b[39;49m\u001b[43mexecute\u001b[49m\u001b[43m(\u001b[49m\u001b[43minsert_query\u001b[49m\u001b[43m,\u001b[49m\u001b[43m \u001b[49m\u001b[43mvalues\u001b[49m\u001b[43m)\u001b[49m\n\u001b[0;32m      9\u001b[0m db\u001b[38;5;241m.\u001b[39mcommit()\n",
      "\u001b[1;31mProgrammingError\u001b[0m: Incorrect number of bindings supplied. The current statement uses 2, and there are 3 supplied."
     ]
    }
   ],
   "source": [
    "values = [('value1', 1),\n",
    "    ('value2', 2),\n",
    "    ('value3', 3)]\n",
    "insert_query = '''update sales set total= ? where id = ?'''\n",
    "\n",
    "cursor.execute(insert_query, values)\n",
    "\n",
    "\n",
    "db.commit()\n"
   ]
  },
  {
   "cell_type": "code",
   "execution_count": 11,
   "metadata": {},
   "outputs": [
    {
     "name": "stdout",
     "output_type": "stream",
     "text": [
      "(1, 'strawberry', 10, '2024-03-10', None, None)\n",
      "(2, 'banana', 20, '2024-03-10', None, None)\n",
      "(3, 'orange', 15, '2024-03-9', None, None)\n",
      "(4, 'mango', 30, '2024-03-8', None, None)\n"
     ]
    }
   ],
   "source": [
    "cursor.execute('select * from sales')\n",
    "for i in cursor.fetchall():\n",
    "    print(i)"
   ]
  }
 ],
 "metadata": {
  "kernelspec": {
   "display_name": "base",
   "language": "python",
   "name": "python3"
  },
  "language_info": {
   "codemirror_mode": {
    "name": "ipython",
    "version": 3
   },
   "file_extension": ".py",
   "mimetype": "text/x-python",
   "name": "python",
   "nbconvert_exporter": "python",
   "pygments_lexer": "ipython3",
   "version": "3.10.9"
  }
 },
 "nbformat": 4,
 "nbformat_minor": 2
}
