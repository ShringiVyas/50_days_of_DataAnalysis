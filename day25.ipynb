{
 "cells": [
  {
   "cell_type": "markdown",
   "metadata": {},
   "source": [
    "VIEWS, CREATION, MANAGEMENT"
   ]
  },
  {
   "cell_type": "code",
   "execution_count": 8,
   "metadata": {},
   "outputs": [],
   "source": [
    "import sqlite3\n",
    "db = sqlite3.connect('DataScience.db')\n",
    "cursor = db.cursor()"
   ]
  },
  {
   "cell_type": "code",
   "execution_count": 9,
   "metadata": {},
   "outputs": [],
   "source": [
    "try:\n",
    "    #create a view\n",
    "    cursor.execute(\"create view if not exists view_1 as select * from employees where dept_id > 1\")\n",
    "    cursor.execute(\"select * from view_1\")\n",
    "    rows = cursor.fetchall()\n",
    "    for i in rows:\n",
    "        print(i)\n",
    "    \n",
    "    #update the view definition\n",
    "    cursor.execute(\"create view view_2 as select * from numbers where num1>1\")\n",
    "    \n",
    "    #delete the view\n",
    "    #cursor.execute(\"drop view if exists view_1\")\n",
    "except sqlite3.Error as e:\n",
    "    print(\"Error: \", e)\n",
    "\n",
    "# finally:\n",
    "    #close the cursor and connection\n",
    "    # cursor.close()\n",
    "    # db.close()"
   ]
  }
 ],
 "metadata": {
  "kernelspec": {
   "display_name": "base",
   "language": "python",
   "name": "python3"
  },
  "language_info": {
   "codemirror_mode": {
    "name": "ipython",
    "version": 3
   },
   "file_extension": ".py",
   "mimetype": "text/x-python",
   "name": "python",
   "nbconvert_exporter": "python",
   "pygments_lexer": "ipython3",
   "version": "3.10.9"
  }
 },
 "nbformat": 4,
 "nbformat_minor": 2
}
