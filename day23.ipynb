{
 "cells": [
  {
   "cell_type": "markdown",
   "metadata": {},
   "source": [
    "JOINS"
   ]
  },
  {
   "cell_type": "code",
   "execution_count": 2,
   "metadata": {},
   "outputs": [],
   "source": [
    "import sqlite3\n",
    "db = sqlite3.connect('DataScience.db')\n",
    "cursor = db.cursor()"
   ]
  },
  {
   "cell_type": "code",
   "execution_count": 4,
   "metadata": {},
   "outputs": [
    {
     "ename": "OperationalError",
     "evalue": "table employees already exists",
     "output_type": "error",
     "traceback": [
      "\u001b[1;31m---------------------------------------------------------------------------\u001b[0m",
      "\u001b[1;31mOperationalError\u001b[0m                          Traceback (most recent call last)",
      "Cell \u001b[1;32mIn[4], line 1\u001b[0m\n\u001b[1;32m----> 1\u001b[0m \u001b[43mcursor\u001b[49m\u001b[38;5;241;43m.\u001b[39;49m\u001b[43mexecute\u001b[49m\u001b[43m(\u001b[49m\u001b[38;5;124;43m'''\u001b[39;49m\u001b[38;5;124;43mcreate table employees (id integer primary key, name text, dept_id integer)\u001b[39;49m\u001b[38;5;124;43m'''\u001b[39;49m\u001b[43m)\u001b[49m\n\u001b[0;32m      2\u001b[0m cursor\u001b[38;5;241m.\u001b[39mexecute(\u001b[38;5;124m'''\u001b[39m\u001b[38;5;124mcreate table departments (id integer primary key, name text)\u001b[39m\u001b[38;5;124m'''\u001b[39m)\n\u001b[0;32m      4\u001b[0m \u001b[38;5;66;03m#insert values\u001b[39;00m\n",
      "\u001b[1;31mOperationalError\u001b[0m: table employees already exists"
     ]
    }
   ],
   "source": [
    "cursor.execute('''create table employees (id integer primary key, name text, dept_id integer)''')\n",
    "cursor.execute('''create table departments (id integer primary key, name text)''')\n"
   ]
  },
  {
   "cell_type": "code",
   "execution_count": 7,
   "metadata": {},
   "outputs": [
    {
     "data": {
      "text/plain": [
       "<sqlite3.Cursor at 0x26ac265a9c0>"
      ]
     },
     "execution_count": 7,
     "metadata": {},
     "output_type": "execute_result"
    }
   ],
   "source": [
    "#insert values\n",
    "cursor.execute(\"insert into employees (name, dept_id) values (?, ?)\", ('john', 1))\n",
    "cursor.execute(\"insert into employees (name, dept_id) values (?, ?)\", ('alice',2))\n",
    "cursor.execute(\"insert into employees (name, dept_id) values (?,?)\", ('sara', 3))\n",
    "\n",
    "cursor.execute(\"insert into departments (name) values (?)\", ('HR',))\n",
    "cursor.execute(\"insert into departments (name) values (?)\", ('IT',))"
   ]
  },
  {
   "cell_type": "code",
   "execution_count": 8,
   "metadata": {},
   "outputs": [
    {
     "name": "stdout",
     "output_type": "stream",
     "text": [
      "Inner Join:  [('john', 'HR'), ('john', 'HR'), ('john', 'HR'), ('alice', 'IT'), ('john', 'HR'), ('alice', 'IT')]\n"
     ]
    }
   ],
   "source": [
    "#INNER JOIN\n",
    "cursor.execute('''select employees.name, departments.name from employees INNER JOIN departments on employees.dept_id = departments.id''')\n",
    "print(\"Inner Join: \", cursor.fetchall())"
   ]
  },
  {
   "cell_type": "code",
   "execution_count": 10,
   "metadata": {},
   "outputs": [
    {
     "name": "stdout",
     "output_type": "stream",
     "text": [
      "\n",
      " LEFT JOIN:  [('john', 'HR'), ('john', 'HR'), ('john', 'HR'), ('alice', 'IT'), ('sara', None), ('john', 'HR'), ('alice', 'IT'), ('sara', None)]\n"
     ]
    }
   ],
   "source": [
    "#LEFT JOIN\n",
    "cursor.execute('''select employees.name, departments.name from employees LEFT JOIN departments on employees.dept_id =  departments.id''')\n",
    "print(\"\\n LEFT JOIN: \", cursor.fetchall())"
   ]
  },
  {
   "cell_type": "code",
   "execution_count": 11,
   "metadata": {},
   "outputs": [
    {
     "name": "stdout",
     "output_type": "stream",
     "text": [
      "RIGHT JOIN:  [('john', 'HR'), ('john', 'HR'), ('john', 'HR'), ('alice', 'IT'), ('john', 'HR'), ('alice', 'IT')]\n"
     ]
    }
   ],
   "source": [
    "#RIGHT JOIN\n",
    "cursor.execute('''select employees.name, departments.name from employees RIGHT JOIN departments on employees.dept_id = departments.id''') \n",
    "print(\"RIGHT JOIN: \", cursor.fetchall())"
   ]
  },
  {
   "cell_type": "code",
   "execution_count": 13,
   "metadata": {},
   "outputs": [
    {
     "name": "stdout",
     "output_type": "stream",
     "text": [
      "FULL OUTER JOIN:  [('alice', 'IT'), ('john', 'HR'), ('sara', None)]\n"
     ]
    }
   ],
   "source": [
    "#Full OUTER JOIN\n",
    "cursor.execute('''select employees.name, departments.name from employees\n",
    "                left join departments on employees.dept_id = departments.id\n",
    "                UNION\n",
    "                select employees.name, departments.name from employees\n",
    "                RIGHT JOIN departments on employees.dept_id = departments.id''') \n",
    "print(\"FULL OUTER JOIN: \", cursor.fetchall())"
   ]
  }
 ],
 "metadata": {
  "kernelspec": {
   "display_name": "base",
   "language": "python",
   "name": "python3"
  },
  "language_info": {
   "codemirror_mode": {
    "name": "ipython",
    "version": 3
   },
   "file_extension": ".py",
   "mimetype": "text/x-python",
   "name": "python",
   "nbconvert_exporter": "python",
   "pygments_lexer": "ipython3",
   "version": "3.10.9"
  }
 },
 "nbformat": 4,
 "nbformat_minor": 2
}
