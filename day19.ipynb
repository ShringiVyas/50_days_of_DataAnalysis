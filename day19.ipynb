{
 "cells": [
  {
   "cell_type": "markdown",
   "metadata": {},
   "source": [
    "AGGREGATE FUNCTIONS AND GROUPING DATA"
   ]
  },
  {
   "cell_type": "code",
   "execution_count": 1,
   "metadata": {},
   "outputs": [],
   "source": [
    "import sqlite3\n",
    "\n",
    "db = sqlite3.connect('DataScience.db')\n",
    "cursor =  db.cursor()\n",
    "\n",
    "cursor.execute('''create table if not exists sales (\n",
    "    id integer primary key,\n",
    "    product text,\n",
    "    amount integer,\n",
    "    date date\n",
    ")''')\n",
    "\n",
    "cursor.executemany('insert into sales (product, amount, date) values (?,?,?)',\n",
    "[('apple', 10, '2024-03-10'),\n",
    "('banana', 20, '2024-03-10'),\n",
    "('orange', 15, '2024-03-9'),\n",
    "('mango', 30, '2024-03-8')])\n",
    "\n",
    "db.commit()\n",
    "\n"
   ]
  },
  {
   "cell_type": "code",
   "execution_count": 2,
   "metadata": {},
   "outputs": [
    {
     "name": "stdout",
     "output_type": "stream",
     "text": [
      "product | amount | date\n",
      "1       | strawberry | 10\n",
      "2       | banana | 20\n",
      "3       | orange | 15\n",
      "4       | mango | 30\n",
      "5       | apple | 10\n",
      "6       | banana | 20\n",
      "7       | orange | 15\n",
      "8       | mango | 30\n"
     ]
    }
   ],
   "source": [
    "cursor.execute('select * from sales')\n",
    "rows = cursor.fetchall()\n",
    "print(\"product | amount | date\")\n",
    "for i in rows:\n",
    "    print(f'{i[0]}       | {i[1]} | {i[2]}')"
   ]
  },
  {
   "cell_type": "markdown",
   "metadata": {},
   "source": [
    "Aggregate functions"
   ]
  },
  {
   "cell_type": "code",
   "execution_count": 15,
   "metadata": {},
   "outputs": [
    {
     "name": "stdout",
     "output_type": "stream",
     "text": [
      "total sales amount:  150\n"
     ]
    }
   ],
   "source": [
    "cursor.execute('select sum(amount) from sales')\n",
    "print('total sales amount: ', cursor.fetchone()[0])"
   ]
  },
  {
   "cell_type": "code",
   "execution_count": 16,
   "metadata": {},
   "outputs": [
    {
     "name": "stdout",
     "output_type": "stream",
     "text": [
      "Average sales amount:  18.75\n"
     ]
    }
   ],
   "source": [
    "cursor.execute('select avg(amount) from sales')\n",
    "print('Average sales amount: ', cursor.fetchone()[0])"
   ]
  },
  {
   "cell_type": "code",
   "execution_count": 17,
   "metadata": {},
   "outputs": [
    {
     "name": "stdout",
     "output_type": "stream",
     "text": [
      "Maximum sales amount:  30\n"
     ]
    }
   ],
   "source": [
    "cursor.execute('select max(amount) from sales')\n",
    "print('Maximum sales amount: ', cursor.fetchone()[0])"
   ]
  },
  {
   "cell_type": "code",
   "execution_count": 18,
   "metadata": {},
   "outputs": [
    {
     "name": "stdout",
     "output_type": "stream",
     "text": [
      "Minimum sales amount:  10\n"
     ]
    }
   ],
   "source": [
    "cursor.execute('select min(amount) from sales')\n",
    "print('Minimum sales amount: ', cursor.fetchone()[0])"
   ]
  },
  {
   "cell_type": "code",
   "execution_count": 20,
   "metadata": {},
   "outputs": [
    {
     "name": "stdout",
     "output_type": "stream",
     "text": [
      "Number of sales records:  8\n"
     ]
    }
   ],
   "source": [
    "cursor.execute('select count(*) from sales')\n",
    "print('Number of sales records: ', cursor.fetchone()[0])"
   ]
  },
  {
   "cell_type": "markdown",
   "metadata": {},
   "source": [
    "Grouping Data"
   ]
  },
  {
   "cell_type": "code",
   "execution_count": 28,
   "metadata": {},
   "outputs": [
    {
     "name": "stdout",
     "output_type": "stream",
     "text": [
      "Product | Total_sales\n",
      "apple  |  20\n",
      "banana  |  40\n",
      "mango  |  60\n",
      "orange  |  30\n"
     ]
    }
   ],
   "source": [
    "cursor.execute('select product, sum(amount) as total_sales from sales group by product')\n",
    "print(\"Product | Total_sales\")\n",
    "for i in cursor.fetchall():\n",
    "    print(f'{i[0]}  |  {i[1]}')"
   ]
  },
  {
   "cell_type": "code",
   "execution_count": 38,
   "metadata": {},
   "outputs": [
    {
     "name": "stdout",
     "output_type": "stream",
     "text": [
      "product | date     | Total_sale\n",
      "apple   | 2024-03-10 | 60\n",
      "mango   | 2024-03-8 | 60\n",
      "orange   | 2024-03-9 | 30\n"
     ]
    }
   ],
   "source": [
    "cursor.execute('select product, date, sum(amount) as Total_sales from sales group by date')\n",
    "print('product | date     | Total_sale')\n",
    "for i in cursor.fetchall():\n",
    "    print(f'{i[0]}   | {i[1]} | {i[2]}')"
   ]
  }
 ],
 "metadata": {
  "kernelspec": {
   "display_name": "base",
   "language": "python",
   "name": "python3"
  },
  "language_info": {
   "codemirror_mode": {
    "name": "ipython",
    "version": 3
   },
   "file_extension": ".py",
   "mimetype": "text/x-python",
   "name": "python",
   "nbconvert_exporter": "python",
   "pygments_lexer": "ipython3",
   "version": "3.10.9"
  }
 },
 "nbformat": 4,
 "nbformat_minor": 2
}
