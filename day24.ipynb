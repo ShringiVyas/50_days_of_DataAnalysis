{
 "cells": [
  {
   "cell_type": "markdown",
   "metadata": {},
   "source": [
    "TRANSACTION CONTROL (Begin, Commit, Rollback)"
   ]
  },
  {
   "cell_type": "code",
   "execution_count": 1,
   "metadata": {},
   "outputs": [],
   "source": [
    "import sqlite3\n",
    "db =  sqlite3.connect('DataScience.db')\n",
    "cursor = db.cursor()\n"
   ]
  },
  {
   "cell_type": "code",
   "execution_count": 6,
   "metadata": {},
   "outputs": [],
   "source": [
    "try:\n",
    "    #BEGIN TRANSACTION\n",
    "    cursor.execute(\"BEGIN TRANSACTION\")\n",
    "    cursor.execute (\"create table users (id integer primary key, name text)\")\n",
    "    cursor.execute(\"insert into users (name) values (?)\", (\"nick\",))\n",
    "    cursor.execute(\"insert into users (name) values (?)\", (\"nikky\",))\n",
    "    db.commit()\n",
    "except Exception as e:\n",
    "    #rollback the transaction if an error occurs\n",
    "    db.rollback()\n",
    "finally:\n",
    "    cursor.close()"
   ]
  }
 ],
 "metadata": {
  "kernelspec": {
   "display_name": "base",
   "language": "python",
   "name": "python3"
  },
  "language_info": {
   "codemirror_mode": {
    "name": "ipython",
    "version": 3
   },
   "file_extension": ".py",
   "mimetype": "text/x-python",
   "name": "python",
   "nbconvert_exporter": "python",
   "pygments_lexer": "ipython3",
   "version": "3.10.9"
  }
 },
 "nbformat": 4,
 "nbformat_minor": 2
}
